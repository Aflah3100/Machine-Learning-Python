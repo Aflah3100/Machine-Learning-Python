{
  "cells":[
    {
      "cell_type":"code",
      "source":[
        "import pandas as pd\n",
        "import numpy as np\n",
        "import matplotlib.pyplot as plt\n",
        "from sklearn import linear_model"
      ],
      "execution_count":1,
      "outputs":[
        
      ],
      "metadata":{
        
      }
    },
    {
      "cell_type":"code",
      "source":[
        "dataset=pd.read_csv('percapitaincome.csv')"
      ],
      "execution_count":3,
      "outputs":[
        
      ],
      "metadata":{
        
      }
    },
    {
      "cell_type":"code",
      "source":[
        "dataset.tail(10)"
      ],
      "execution_count":14,
      "outputs":[
        {
          "data":{
            "text\/html":[
              "<div>\n",
              "<style scoped>\n",
              "    .dataframe tbody tr th:only-of-type {\n",
              "        vertical-align: middle;\n",
              "    }\n",
              "\n",
              "    .dataframe tbody tr th {\n",
              "        vertical-align: top;\n",
              "    }\n",
              "\n",
              "    .dataframe thead th {\n",
              "        text-align: right;\n",
              "    }\n",
              "<\/style>\n",
              "<table border=\"1\" class=\"dataframe\">\n",
              "  <thead>\n",
              "    <tr style=\"text-align: right;\">\n",
              "      <th><\/th>\n",
              "      <th>year<\/th>\n",
              "      <th>per capita income (US$)<\/th>\n",
              "    <\/tr>\n",
              "  <\/thead>\n",
              "  <tbody>\n",
              "    <tr>\n",
              "      <th>37<\/th>\n",
              "      <td>2007<\/td>\n",
              "      <td>36144.48122<\/td>\n",
              "    <\/tr>\n",
              "    <tr>\n",
              "      <th>38<\/th>\n",
              "      <td>2008<\/td>\n",
              "      <td>37446.48609<\/td>\n",
              "    <\/tr>\n",
              "    <tr>\n",
              "      <th>39<\/th>\n",
              "      <td>2009<\/td>\n",
              "      <td>32755.17682<\/td>\n",
              "    <\/tr>\n",
              "    <tr>\n",
              "      <th>40<\/th>\n",
              "      <td>2010<\/td>\n",
              "      <td>38420.52289<\/td>\n",
              "    <\/tr>\n",
              "    <tr>\n",
              "      <th>41<\/th>\n",
              "      <td>2011<\/td>\n",
              "      <td>42334.71121<\/td>\n",
              "    <\/tr>\n",
              "    <tr>\n",
              "      <th>42<\/th>\n",
              "      <td>2012<\/td>\n",
              "      <td>42665.25597<\/td>\n",
              "    <\/tr>\n",
              "    <tr>\n",
              "      <th>43<\/th>\n",
              "      <td>2013<\/td>\n",
              "      <td>42676.46837<\/td>\n",
              "    <\/tr>\n",
              "    <tr>\n",
              "      <th>44<\/th>\n",
              "      <td>2014<\/td>\n",
              "      <td>41039.89360<\/td>\n",
              "    <\/tr>\n",
              "    <tr>\n",
              "      <th>45<\/th>\n",
              "      <td>2015<\/td>\n",
              "      <td>35175.18898<\/td>\n",
              "    <\/tr>\n",
              "    <tr>\n",
              "      <th>46<\/th>\n",
              "      <td>2016<\/td>\n",
              "      <td>34229.19363<\/td>\n",
              "    <\/tr>\n",
              "  <\/tbody>\n",
              "<\/table>\n",
              "<\/div>"
            ]
          },
          "metadata":{
            
          },
          "output_type":"display_data"
        }
      ],
      "metadata":{
        
      }
    },
    {
      "cell_type":"code",
      "source":[
        "plt.scatter(dataset['year'],dataset['per capita income (US$)'],color=\"green\",marker=\".\")"
      ],
      "execution_count":9,
      "outputs":[
        {
          "data":{
            "text\/plain":[
              "<matplotlib.collections.PathCollection at 0x7f3fdb2baa00>"
            ],
            "image\/png":"[encoded data removed]"
          },
          "metadata":{
            "image\/png":{
              "width":0,
              "height":0
            }
          },
          "output_type":"display_data"
        }
      ],
      "metadata":{
        
      }
    },
    {
      "cell_type":"code",
      "source":[
        "reg=linear_model.LinearRegression()\n",
        "reg.fit(dataset[['year']],dataset['per capita income (US$)'])"
      ],
      "execution_count":10,
      "outputs":[
        {
          "data":{
            "text\/plain":[
              "LinearRegression()"
            ]
          },
          "metadata":{
            
          },
          "output_type":"display_data"
        }
      ],
      "metadata":{
        
      }
    },
    {
      "cell_type":"code",
      "source":[
        "reg.predict([[2000]])"
      ],
      "execution_count":28,
      "outputs":[
        {
          "data":{
            "text\/plain":[
              "array([24719.39258996])"
            ]
          },
          "metadata":{
            
          },
          "output_type":"display_data"
        }
      ],
      "metadata":{
        
      }
    },
    {
      "cell_type":"code",
      "source":[
        "yearout=pd.read_csv('years.csv')"
      ],
      "execution_count":31,
      "outputs":[
        
      ],
      "metadata":{
        
      }
    },
    {
      "cell_type":"code",
      "source":[
        "yearout.head(5)"
      ],
      "execution_count":32,
      "outputs":[
        {
          "data":{
            "text\/html":[
              "<div>\n",
              "<style scoped>\n",
              "    .dataframe tbody tr th:only-of-type {\n",
              "        vertical-align: middle;\n",
              "    }\n",
              "\n",
              "    .dataframe tbody tr th {\n",
              "        vertical-align: top;\n",
              "    }\n",
              "\n",
              "    .dataframe thead th {\n",
              "        text-align: right;\n",
              "    }\n",
              "<\/style>\n",
              "<table border=\"1\" class=\"dataframe\">\n",
              "  <thead>\n",
              "    <tr style=\"text-align: right;\">\n",
              "      <th><\/th>\n",
              "      <th>year<\/th>\n",
              "    <\/tr>\n",
              "  <\/thead>\n",
              "  <tbody>\n",
              "    <tr>\n",
              "      <th>0<\/th>\n",
              "      <td>2017<\/td>\n",
              "    <\/tr>\n",
              "    <tr>\n",
              "      <th>1<\/th>\n",
              "      <td>2018<\/td>\n",
              "    <\/tr>\n",
              "    <tr>\n",
              "      <th>2<\/th>\n",
              "      <td>2020<\/td>\n",
              "    <\/tr>\n",
              "    <tr>\n",
              "      <th>3<\/th>\n",
              "      <td>2019<\/td>\n",
              "    <\/tr>\n",
              "    <tr>\n",
              "      <th>4<\/th>\n",
              "      <td>2021<\/td>\n",
              "    <\/tr>\n",
              "  <\/tbody>\n",
              "<\/table>\n",
              "<\/div>"
            ]
          },
          "metadata":{
            
          },
          "output_type":"display_data"
        }
      ],
      "metadata":{
        
      }
    },
    {
      "cell_type":"code",
      "source":[
        "p=reg.predict(yearout)\n",
        "p"
      ],
      "execution_count":36,
      "outputs":[
        {
          "data":{
            "text\/plain":[
              "array([38803.29886875, 39631.76394397, 41288.69409442, 40460.22901919,\n",
              "       42117.15916964])"
            ]
          },
          "metadata":{
            
          },
          "output_type":"display_data"
        }
      ],
      "metadata":{
        
      }
    },
    {
      "cell_type":"code",
      "source":[
        
      ],
      "execution_count":null,
      "outputs":[
        
      ],
      "metadata":{
        
      }
    }
  ],
  "metadata":{
    
  },
  "nbformat":4,
  "nbformat_minor":0
}