{
  "cells":[
    {
      "cell_type":"code",
      "source":[
        "import numpy as np\n",
        "import pandas as pd\n",
        "import matplotlib.pyplot as plt\n",
        "from sklearn.model_selection import train_test_split as tts\n",
        "from sklearn.preprocessing import LabelEncoder\n",
        "from sklearn import tree"
      ],
      "execution_count":1,
      "outputs":[
        
      ],
      "metadata":{
        
      }
    },
    {
      "cell_type":"code",
      "source":[
        "df=pd.read_csv('titanic.csv')"
      ],
      "execution_count":2,
      "outputs":[
        
      ],
      "metadata":{
        
      }
    },
    {
      "cell_type":"code",
      "source":[
        "#Checking for null values\n",
        "df.isnull()"
      ],
      "execution_count":42,
      "outputs":[
        {
          "data":{
            "text\/html":[
              "<div>\n",
              "<style scoped>\n",
              "    .dataframe tbody tr th:only-of-type {\n",
              "        vertical-align: middle;\n",
              "    }\n",
              "\n",
              "    .dataframe tbody tr th {\n",
              "        vertical-align: top;\n",
              "    }\n",
              "\n",
              "    .dataframe thead th {\n",
              "        text-align: right;\n",
              "    }\n",
              "<\/style>\n",
              "<table border=\"1\" class=\"dataframe\">\n",
              "  <thead>\n",
              "    <tr style=\"text-align: right;\">\n",
              "      <th><\/th>\n",
              "      <th>PassengerId<\/th>\n",
              "      <th>Survived<\/th>\n",
              "      <th>Pclass<\/th>\n",
              "      <th>Name<\/th>\n",
              "      <th>Sex<\/th>\n",
              "      <th>Age<\/th>\n",
              "      <th>SibSp<\/th>\n",
              "      <th>Parch<\/th>\n",
              "      <th>Ticket<\/th>\n",
              "      <th>Fare<\/th>\n",
              "      <th>Cabin<\/th>\n",
              "      <th>Embarked<\/th>\n",
              "      <th>Sex_n<\/th>\n",
              "    <\/tr>\n",
              "  <\/thead>\n",
              "  <tbody>\n",
              "    <tr>\n",
              "      <th>0<\/th>\n",
              "      <td>False<\/td>\n",
              "      <td>False<\/td>\n",
              "      <td>False<\/td>\n",
              "      <td>False<\/td>\n",
              "      <td>False<\/td>\n",
              "      <td>False<\/td>\n",
              "      <td>False<\/td>\n",
              "      <td>False<\/td>\n",
              "      <td>False<\/td>\n",
              "      <td>False<\/td>\n",
              "      <td>True<\/td>\n",
              "      <td>False<\/td>\n",
              "      <td>False<\/td>\n",
              "    <\/tr>\n",
              "    <tr>\n",
              "      <th>1<\/th>\n",
              "      <td>False<\/td>\n",
              "      <td>False<\/td>\n",
              "      <td>False<\/td>\n",
              "      <td>False<\/td>\n",
              "      <td>False<\/td>\n",
              "      <td>False<\/td>\n",
              "      <td>False<\/td>\n",
              "      <td>False<\/td>\n",
              "      <td>False<\/td>\n",
              "      <td>False<\/td>\n",
              "      <td>False<\/td>\n",
              "      <td>False<\/td>\n",
              "      <td>False<\/td>\n",
              "    <\/tr>\n",
              "    <tr>\n",
              "      <th>2<\/th>\n",
              "      <td>False<\/td>\n",
              "      <td>False<\/td>\n",
              "      <td>False<\/td>\n",
              "      <td>False<\/td>\n",
              "      <td>False<\/td>\n",
              "      <td>False<\/td>\n",
              "      <td>False<\/td>\n",
              "      <td>False<\/td>\n",
              "      <td>False<\/td>\n",
              "      <td>False<\/td>\n",
              "      <td>True<\/td>\n",
              "      <td>False<\/td>\n",
              "      <td>False<\/td>\n",
              "    <\/tr>\n",
              "    <tr>\n",
              "      <th>3<\/th>\n",
              "      <td>False<\/td>\n",
              "      <td>False<\/td>\n",
              "      <td>False<\/td>\n",
              "      <td>False<\/td>\n",
              "      <td>False<\/td>\n",
              "      <td>False<\/td>\n",
              "      <td>False<\/td>\n",
              "      <td>False<\/td>\n",
              "      <td>False<\/td>\n",
              "      <td>False<\/td>\n",
              "      <td>False<\/td>\n",
              "      <td>False<\/td>\n",
              "      <td>False<\/td>\n",
              "    <\/tr>\n",
              "    <tr>\n",
              "      <th>4<\/th>\n",
              "      <td>False<\/td>\n",
              "      <td>False<\/td>\n",
              "      <td>False<\/td>\n",
              "      <td>False<\/td>\n",
              "      <td>False<\/td>\n",
              "      <td>False<\/td>\n",
              "      <td>False<\/td>\n",
              "      <td>False<\/td>\n",
              "      <td>False<\/td>\n",
              "      <td>False<\/td>\n",
              "      <td>True<\/td>\n",
              "      <td>False<\/td>\n",
              "      <td>False<\/td>\n",
              "    <\/tr>\n",
              "    <tr>\n",
              "      <th>...<\/th>\n",
              "      <td>...<\/td>\n",
              "      <td>...<\/td>\n",
              "      <td>...<\/td>\n",
              "      <td>...<\/td>\n",
              "      <td>...<\/td>\n",
              "      <td>...<\/td>\n",
              "      <td>...<\/td>\n",
              "      <td>...<\/td>\n",
              "      <td>...<\/td>\n",
              "      <td>...<\/td>\n",
              "      <td>...<\/td>\n",
              "      <td>...<\/td>\n",
              "      <td>...<\/td>\n",
              "    <\/tr>\n",
              "    <tr>\n",
              "      <th>886<\/th>\n",
              "      <td>False<\/td>\n",
              "      <td>False<\/td>\n",
              "      <td>False<\/td>\n",
              "      <td>False<\/td>\n",
              "      <td>False<\/td>\n",
              "      <td>False<\/td>\n",
              "      <td>False<\/td>\n",
              "      <td>False<\/td>\n",
              "      <td>False<\/td>\n",
              "      <td>False<\/td>\n",
              "      <td>True<\/td>\n",
              "      <td>False<\/td>\n",
              "      <td>False<\/td>\n",
              "    <\/tr>\n",
              "    <tr>\n",
              "      <th>887<\/th>\n",
              "      <td>False<\/td>\n",
              "      <td>False<\/td>\n",
              "      <td>False<\/td>\n",
              "      <td>False<\/td>\n",
              "      <td>False<\/td>\n",
              "      <td>False<\/td>\n",
              "      <td>False<\/td>\n",
              "      <td>False<\/td>\n",
              "      <td>False<\/td>\n",
              "      <td>False<\/td>\n",
              "      <td>False<\/td>\n",
              "      <td>False<\/td>\n",
              "      <td>False<\/td>\n",
              "    <\/tr>\n",
              "    <tr>\n",
              "      <th>888<\/th>\n",
              "      <td>False<\/td>\n",
              "      <td>False<\/td>\n",
              "      <td>False<\/td>\n",
              "      <td>False<\/td>\n",
              "      <td>False<\/td>\n",
              "      <td>True<\/td>\n",
              "      <td>False<\/td>\n",
              "      <td>False<\/td>\n",
              "      <td>False<\/td>\n",
              "      <td>False<\/td>\n",
              "      <td>True<\/td>\n",
              "      <td>False<\/td>\n",
              "      <td>False<\/td>\n",
              "    <\/tr>\n",
              "    <tr>\n",
              "      <th>889<\/th>\n",
              "      <td>False<\/td>\n",
              "      <td>False<\/td>\n",
              "      <td>False<\/td>\n",
              "      <td>False<\/td>\n",
              "      <td>False<\/td>\n",
              "      <td>False<\/td>\n",
              "      <td>False<\/td>\n",
              "      <td>False<\/td>\n",
              "      <td>False<\/td>\n",
              "      <td>False<\/td>\n",
              "      <td>False<\/td>\n",
              "      <td>False<\/td>\n",
              "      <td>False<\/td>\n",
              "    <\/tr>\n",
              "    <tr>\n",
              "      <th>890<\/th>\n",
              "      <td>False<\/td>\n",
              "      <td>False<\/td>\n",
              "      <td>False<\/td>\n",
              "      <td>False<\/td>\n",
              "      <td>False<\/td>\n",
              "      <td>False<\/td>\n",
              "      <td>False<\/td>\n",
              "      <td>False<\/td>\n",
              "      <td>False<\/td>\n",
              "      <td>False<\/td>\n",
              "      <td>True<\/td>\n",
              "      <td>False<\/td>\n",
              "      <td>False<\/td>\n",
              "    <\/tr>\n",
              "  <\/tbody>\n",
              "<\/table>\n",
              "<p>891 rows × 13 columns<\/p>\n",
              "<\/div>"
            ]
          },
          "metadata":{
            
          },
          "output_type":"display_data"
        }
      ],
      "metadata":{
        
      }
    },
    {
      "cell_type":"code",
      "source":[
        "#Drawing scatter plot\n",
        "plt.scatter(df['Pclass'],df['Survived'])"
      ],
      "execution_count":15,
      "outputs":[
        {
          "data":{
            "text\/plain":[
              "<matplotlib.collections.PathCollection at 0x7fdd50376820>"
            ],
            "image\/png":"[encoded data removed]"
          },
          "metadata":{
            "image\/png":{
              "width":0,
              "height":0
            }
          },
          "output_type":"display_data"
        }
      ],
      "metadata":{
        
      }
    },
    {
      "cell_type":"code",
      "source":[
        "plt.scatter(df['Sex'],df['Survived'])"
      ],
      "execution_count":16,
      "outputs":[
        {
          "data":{
            "text\/plain":[
              "<matplotlib.collections.PathCollection at 0x7fdd500b9c10>"
            ],
            "image\/png":"[encoded data removed]"
          },
          "metadata":{
            "image\/png":{
              "width":0,
              "height":0
            }
          },
          "output_type":"display_data"
        }
      ],
      "metadata":{
        
      }
    },
    {
      "cell_type":"code",
      "source":[
        "plt.scatter(df['Fare'],df['Survived'])"
      ],
      "execution_count":19,
      "outputs":[
        {
          "data":{
            "text\/plain":[
              "<matplotlib.collections.PathCollection at 0x7fdd4ff653a0>"
            ],
            "image\/png":"[encoded data removed]"
          },
          "metadata":{
            "image\/png":{
              "width":0,
              "height":0
            }
          },
          "output_type":"display_data"
        }
      ],
      "metadata":{
        
      }
    },
    {
      "cell_type":"code",
      "source":[
        "#Giving label to column sex\n",
        "l_sec=LabelEncoder()"
      ],
      "execution_count":14,
      "outputs":[
        
      ],
      "metadata":{
        
      }
    },
    {
      "cell_type":"code",
      "source":[
        "df['Sex_n']=l_sec.fit_transform(df['Sex'])"
      ],
      "execution_count":20,
      "outputs":[
        
      ],
      "metadata":{
        
      }
    },
    {
      "cell_type":"code",
      "source":[
        "#Loading the dataset\n",
        "df"
      ],
      "execution_count":22,
      "outputs":[
        {
          "data":{
            "text\/html":[
              "<div>\n",
              "<style scoped>\n",
              "    .dataframe tbody tr th:only-of-type {\n",
              "        vertical-align: middle;\n",
              "    }\n",
              "\n",
              "    .dataframe tbody tr th {\n",
              "        vertical-align: top;\n",
              "    }\n",
              "\n",
              "    .dataframe thead th {\n",
              "        text-align: right;\n",
              "    }\n",
              "<\/style>\n",
              "<table border=\"1\" class=\"dataframe\">\n",
              "  <thead>\n",
              "    <tr style=\"text-align: right;\">\n",
              "      <th><\/th>\n",
              "      <th>PassengerId<\/th>\n",
              "      <th>Survived<\/th>\n",
              "      <th>Pclass<\/th>\n",
              "      <th>Name<\/th>\n",
              "      <th>Sex<\/th>\n",
              "      <th>Age<\/th>\n",
              "      <th>SibSp<\/th>\n",
              "      <th>Parch<\/th>\n",
              "      <th>Ticket<\/th>\n",
              "      <th>Fare<\/th>\n",
              "      <th>Cabin<\/th>\n",
              "      <th>Embarked<\/th>\n",
              "      <th>Sex_n<\/th>\n",
              "    <\/tr>\n",
              "  <\/thead>\n",
              "  <tbody>\n",
              "    <tr>\n",
              "      <th>0<\/th>\n",
              "      <td>1<\/td>\n",
              "      <td>0<\/td>\n",
              "      <td>3<\/td>\n",
              "      <td>Braund, Mr. Owen Harris<\/td>\n",
              "      <td>male<\/td>\n",
              "      <td>22.0<\/td>\n",
              "      <td>1<\/td>\n",
              "      <td>0<\/td>\n",
              "      <td>A\/5 21171<\/td>\n",
              "      <td>7.2500<\/td>\n",
              "      <td>NaN<\/td>\n",
              "      <td>S<\/td>\n",
              "      <td>1<\/td>\n",
              "    <\/tr>\n",
              "    <tr>\n",
              "      <th>1<\/th>\n",
              "      <td>2<\/td>\n",
              "      <td>1<\/td>\n",
              "      <td>1<\/td>\n",
              "      <td>Cumings, Mrs. John Bradley (Florence Briggs Th...<\/td>\n",
              "      <td>female<\/td>\n",
              "      <td>38.0<\/td>\n",
              "      <td>1<\/td>\n",
              "      <td>0<\/td>\n",
              "      <td>PC 17599<\/td>\n",
              "      <td>71.2833<\/td>\n",
              "      <td>C85<\/td>\n",
              "      <td>C<\/td>\n",
              "      <td>0<\/td>\n",
              "    <\/tr>\n",
              "    <tr>\n",
              "      <th>2<\/th>\n",
              "      <td>3<\/td>\n",
              "      <td>1<\/td>\n",
              "      <td>3<\/td>\n",
              "      <td>Heikkinen, Miss. Laina<\/td>\n",
              "      <td>female<\/td>\n",
              "      <td>26.0<\/td>\n",
              "      <td>0<\/td>\n",
              "      <td>0<\/td>\n",
              "      <td>STON\/O2. 3101282<\/td>\n",
              "      <td>7.9250<\/td>\n",
              "      <td>NaN<\/td>\n",
              "      <td>S<\/td>\n",
              "      <td>0<\/td>\n",
              "    <\/tr>\n",
              "    <tr>\n",
              "      <th>3<\/th>\n",
              "      <td>4<\/td>\n",
              "      <td>1<\/td>\n",
              "      <td>1<\/td>\n",
              "      <td>Futrelle, Mrs. Jacques Heath (Lily May Peel)<\/td>\n",
              "      <td>female<\/td>\n",
              "      <td>35.0<\/td>\n",
              "      <td>1<\/td>\n",
              "      <td>0<\/td>\n",
              "      <td>113803<\/td>\n",
              "      <td>53.1000<\/td>\n",
              "      <td>C123<\/td>\n",
              "      <td>S<\/td>\n",
              "      <td>0<\/td>\n",
              "    <\/tr>\n",
              "    <tr>\n",
              "      <th>4<\/th>\n",
              "      <td>5<\/td>\n",
              "      <td>0<\/td>\n",
              "      <td>3<\/td>\n",
              "      <td>Allen, Mr. William Henry<\/td>\n",
              "      <td>male<\/td>\n",
              "      <td>35.0<\/td>\n",
              "      <td>0<\/td>\n",
              "      <td>0<\/td>\n",
              "      <td>373450<\/td>\n",
              "      <td>8.0500<\/td>\n",
              "      <td>NaN<\/td>\n",
              "      <td>S<\/td>\n",
              "      <td>1<\/td>\n",
              "    <\/tr>\n",
              "    <tr>\n",
              "      <th>...<\/th>\n",
              "      <td>...<\/td>\n",
              "      <td>...<\/td>\n",
              "      <td>...<\/td>\n",
              "      <td>...<\/td>\n",
              "      <td>...<\/td>\n",
              "      <td>...<\/td>\n",
              "      <td>...<\/td>\n",
              "      <td>...<\/td>\n",
              "      <td>...<\/td>\n",
              "      <td>...<\/td>\n",
              "      <td>...<\/td>\n",
              "      <td>...<\/td>\n",
              "      <td>...<\/td>\n",
              "    <\/tr>\n",
              "    <tr>\n",
              "      <th>886<\/th>\n",
              "      <td>887<\/td>\n",
              "      <td>0<\/td>\n",
              "      <td>2<\/td>\n",
              "      <td>Montvila, Rev. Juozas<\/td>\n",
              "      <td>male<\/td>\n",
              "      <td>27.0<\/td>\n",
              "      <td>0<\/td>\n",
              "      <td>0<\/td>\n",
              "      <td>211536<\/td>\n",
              "      <td>13.0000<\/td>\n",
              "      <td>NaN<\/td>\n",
              "      <td>S<\/td>\n",
              "      <td>1<\/td>\n",
              "    <\/tr>\n",
              "    <tr>\n",
              "      <th>887<\/th>\n",
              "      <td>888<\/td>\n",
              "      <td>1<\/td>\n",
              "      <td>1<\/td>\n",
              "      <td>Graham, Miss. Margaret Edith<\/td>\n",
              "      <td>female<\/td>\n",
              "      <td>19.0<\/td>\n",
              "      <td>0<\/td>\n",
              "      <td>0<\/td>\n",
              "      <td>112053<\/td>\n",
              "      <td>30.0000<\/td>\n",
              "      <td>B42<\/td>\n",
              "      <td>S<\/td>\n",
              "      <td>0<\/td>\n",
              "    <\/tr>\n",
              "    <tr>\n",
              "      <th>888<\/th>\n",
              "      <td>889<\/td>\n",
              "      <td>0<\/td>\n",
              "      <td>3<\/td>\n",
              "      <td>Johnston, Miss. Catherine Helen \"Carrie\"<\/td>\n",
              "      <td>female<\/td>\n",
              "      <td>NaN<\/td>\n",
              "      <td>1<\/td>\n",
              "      <td>2<\/td>\n",
              "      <td>W.\/C. 6607<\/td>\n",
              "      <td>23.4500<\/td>\n",
              "      <td>NaN<\/td>\n",
              "      <td>S<\/td>\n",
              "      <td>0<\/td>\n",
              "    <\/tr>\n",
              "    <tr>\n",
              "      <th>889<\/th>\n",
              "      <td>890<\/td>\n",
              "      <td>1<\/td>\n",
              "      <td>1<\/td>\n",
              "      <td>Behr, Mr. Karl Howell<\/td>\n",
              "      <td>male<\/td>\n",
              "      <td>26.0<\/td>\n",
              "      <td>0<\/td>\n",
              "      <td>0<\/td>\n",
              "      <td>111369<\/td>\n",
              "      <td>30.0000<\/td>\n",
              "      <td>C148<\/td>\n",
              "      <td>C<\/td>\n",
              "      <td>1<\/td>\n",
              "    <\/tr>\n",
              "    <tr>\n",
              "      <th>890<\/th>\n",
              "      <td>891<\/td>\n",
              "      <td>0<\/td>\n",
              "      <td>3<\/td>\n",
              "      <td>Dooley, Mr. Patrick<\/td>\n",
              "      <td>male<\/td>\n",
              "      <td>32.0<\/td>\n",
              "      <td>0<\/td>\n",
              "      <td>0<\/td>\n",
              "      <td>370376<\/td>\n",
              "      <td>7.7500<\/td>\n",
              "      <td>NaN<\/td>\n",
              "      <td>Q<\/td>\n",
              "      <td>1<\/td>\n",
              "    <\/tr>\n",
              "  <\/tbody>\n",
              "<\/table>\n",
              "<p>891 rows × 13 columns<\/p>\n",
              "<\/div>"
            ]
          },
          "metadata":{
            
          },
          "output_type":"display_data"
        }
      ],
      "metadata":{
        
      }
    },
    {
      "cell_type":"code",
      "source":[
        "#Taking the input and output columns\n",
        "inp=df[['Pclass','Sex_n','Fare']]\n",
        "out=df[['Survived']]"
      ],
      "execution_count":30,
      "outputs":[
        
      ],
      "metadata":{
        
      }
    },
    {
      "cell_type":"code",
      "source":[
        "inp"
      ],
      "execution_count":31,
      "outputs":[
        {
          "data":{
            "text\/html":[
              "<div>\n",
              "<style scoped>\n",
              "    .dataframe tbody tr th:only-of-type {\n",
              "        vertical-align: middle;\n",
              "    }\n",
              "\n",
              "    .dataframe tbody tr th {\n",
              "        vertical-align: top;\n",
              "    }\n",
              "\n",
              "    .dataframe thead th {\n",
              "        text-align: right;\n",
              "    }\n",
              "<\/style>\n",
              "<table border=\"1\" class=\"dataframe\">\n",
              "  <thead>\n",
              "    <tr style=\"text-align: right;\">\n",
              "      <th><\/th>\n",
              "      <th>Pclass<\/th>\n",
              "      <th>Sex_n<\/th>\n",
              "      <th>Fare<\/th>\n",
              "    <\/tr>\n",
              "  <\/thead>\n",
              "  <tbody>\n",
              "    <tr>\n",
              "      <th>0<\/th>\n",
              "      <td>3<\/td>\n",
              "      <td>1<\/td>\n",
              "      <td>7.2500<\/td>\n",
              "    <\/tr>\n",
              "    <tr>\n",
              "      <th>1<\/th>\n",
              "      <td>1<\/td>\n",
              "      <td>0<\/td>\n",
              "      <td>71.2833<\/td>\n",
              "    <\/tr>\n",
              "    <tr>\n",
              "      <th>2<\/th>\n",
              "      <td>3<\/td>\n",
              "      <td>0<\/td>\n",
              "      <td>7.9250<\/td>\n",
              "    <\/tr>\n",
              "    <tr>\n",
              "      <th>3<\/th>\n",
              "      <td>1<\/td>\n",
              "      <td>0<\/td>\n",
              "      <td>53.1000<\/td>\n",
              "    <\/tr>\n",
              "    <tr>\n",
              "      <th>4<\/th>\n",
              "      <td>3<\/td>\n",
              "      <td>1<\/td>\n",
              "      <td>8.0500<\/td>\n",
              "    <\/tr>\n",
              "    <tr>\n",
              "      <th>...<\/th>\n",
              "      <td>...<\/td>\n",
              "      <td>...<\/td>\n",
              "      <td>...<\/td>\n",
              "    <\/tr>\n",
              "    <tr>\n",
              "      <th>886<\/th>\n",
              "      <td>2<\/td>\n",
              "      <td>1<\/td>\n",
              "      <td>13.0000<\/td>\n",
              "    <\/tr>\n",
              "    <tr>\n",
              "      <th>887<\/th>\n",
              "      <td>1<\/td>\n",
              "      <td>0<\/td>\n",
              "      <td>30.0000<\/td>\n",
              "    <\/tr>\n",
              "    <tr>\n",
              "      <th>888<\/th>\n",
              "      <td>3<\/td>\n",
              "      <td>0<\/td>\n",
              "      <td>23.4500<\/td>\n",
              "    <\/tr>\n",
              "    <tr>\n",
              "      <th>889<\/th>\n",
              "      <td>1<\/td>\n",
              "      <td>1<\/td>\n",
              "      <td>30.0000<\/td>\n",
              "    <\/tr>\n",
              "    <tr>\n",
              "      <th>890<\/th>\n",
              "      <td>3<\/td>\n",
              "      <td>1<\/td>\n",
              "      <td>7.7500<\/td>\n",
              "    <\/tr>\n",
              "  <\/tbody>\n",
              "<\/table>\n",
              "<p>891 rows × 3 columns<\/p>\n",
              "<\/div>"
            ]
          },
          "metadata":{
            
          },
          "output_type":"display_data"
        }
      ],
      "metadata":{
        
      }
    },
    {
      "cell_type":"code",
      "source":[
        "#Splitting into training and testing data\n",
        "train_input,test_input,train_output,test_ouput=tts(inp,out,train_size=0.9)"
      ],
      "execution_count":32,
      "outputs":[
        
      ],
      "metadata":{
        
      }
    },
    {
      "cell_type":"code",
      "source":[
        "#Solving using descion tree classifier\n",
        "des=tree.DecisionTreeClassifier()\n",
        "des.fit(train_input,train_output)"
      ],
      "execution_count":34,
      "outputs":[
        {
          "data":{
            "text\/plain":[
              "DecisionTreeClassifier()"
            ]
          },
          "metadata":{
            
          },
          "output_type":"display_data"
        }
      ],
      "metadata":{
        
      }
    },
    {
      "cell_type":"code",
      "source":[
        "#Predicting the ouput of person of pclass:3 sex:male, Fare:10.0\n",
        "des.predict([[3.0,1.0,10.0]])"
      ],
      "execution_count":35,
      "outputs":[
        {
          "data":{
            "text\/plain":[
              "array([0])"
            ]
          },
          "metadata":{
            
          },
          "output_type":"display_data"
        }
      ],
      "metadata":{
        
      }
    },
    {
      "cell_type":"code",
      "source":[
        "#Prediciting the output with tesing dataset\n",
        "des.predict(test_input)"
      ],
      "execution_count":36,
      "outputs":[
        {
          "data":{
            "text\/plain":[
              "array([0, 1, 0, 0, 1, 0, 0, 1, 1, 0, 0, 0, 0, 0, 0, 0, 0, 0, 1, 0, 0, 0,\n",
              "       1, 0, 1, 0, 0, 1, 0, 0, 0, 1, 0, 0, 0, 0, 0, 0, 1, 0, 1, 0, 1, 0,\n",
              "       0, 0, 0, 1, 0, 0, 0, 1, 1, 0, 0, 0, 1, 1, 1, 0, 0, 0, 1, 1, 0, 0,\n",
              "       0, 1, 0, 1, 1, 0, 1, 0, 0, 1, 0, 0, 0, 0, 1, 0, 1, 0, 0, 0, 0, 0,\n",
              "       0, 0])"
            ]
          },
          "metadata":{
            
          },
          "output_type":"display_data"
        }
      ],
      "metadata":{
        
      }
    },
    {
      "cell_type":"code",
      "source":[
        "#Actual output of testdataset\n",
        "test_ouput"
      ],
      "execution_count":37,
      "outputs":[
        {
          "data":{
            "text\/html":[
              "<div>\n",
              "<style scoped>\n",
              "    .dataframe tbody tr th:only-of-type {\n",
              "        vertical-align: middle;\n",
              "    }\n",
              "\n",
              "    .dataframe tbody tr th {\n",
              "        vertical-align: top;\n",
              "    }\n",
              "\n",
              "    .dataframe thead th {\n",
              "        text-align: right;\n",
              "    }\n",
              "<\/style>\n",
              "<table border=\"1\" class=\"dataframe\">\n",
              "  <thead>\n",
              "    <tr style=\"text-align: right;\">\n",
              "      <th><\/th>\n",
              "      <th>Survived<\/th>\n",
              "    <\/tr>\n",
              "  <\/thead>\n",
              "  <tbody>\n",
              "    <tr>\n",
              "      <th>50<\/th>\n",
              "      <td>0<\/td>\n",
              "    <\/tr>\n",
              "    <tr>\n",
              "      <th>62<\/th>\n",
              "      <td>0<\/td>\n",
              "    <\/tr>\n",
              "    <tr>\n",
              "      <th>22<\/th>\n",
              "      <td>1<\/td>\n",
              "    <\/tr>\n",
              "    <tr>\n",
              "      <th>40<\/th>\n",
              "      <td>0<\/td>\n",
              "    <\/tr>\n",
              "    <tr>\n",
              "      <th>359<\/th>\n",
              "      <td>1<\/td>\n",
              "    <\/tr>\n",
              "    <tr>\n",
              "      <th>...<\/th>\n",
              "      <td>...<\/td>\n",
              "    <\/tr>\n",
              "    <tr>\n",
              "      <th>748<\/th>\n",
              "      <td>0<\/td>\n",
              "    <\/tr>\n",
              "    <tr>\n",
              "      <th>723<\/th>\n",
              "      <td>0<\/td>\n",
              "    <\/tr>\n",
              "    <tr>\n",
              "      <th>832<\/th>\n",
              "      <td>0<\/td>\n",
              "    <\/tr>\n",
              "    <tr>\n",
              "      <th>95<\/th>\n",
              "      <td>0<\/td>\n",
              "    <\/tr>\n",
              "    <tr>\n",
              "      <th>595<\/th>\n",
              "      <td>0<\/td>\n",
              "    <\/tr>\n",
              "  <\/tbody>\n",
              "<\/table>\n",
              "<p>90 rows × 1 columns<\/p>\n",
              "<\/div>"
            ]
          },
          "metadata":{
            
          },
          "output_type":"display_data"
        }
      ],
      "metadata":{
        
      }
    },
    {
      "cell_type":"code",
      "source":[
        "#Comparing the efficiency of tesdataset\n",
        "des.score(test_input,test_ouput)\n",
        "#82% Efficiency"
      ],
      "execution_count":38,
      "outputs":[
        {
          "data":{
            "text\/plain":[
              "0.8222222222222222"
            ]
          },
          "metadata":{
            
          },
          "output_type":"display_data"
        }
      ],
      "metadata":{
        
      }
    },
    {
      "cell_type":"code",
      "source":[
        "#Comparing the efficency between training dataset\n",
        "des.score(train_input,train_output)\n",
        "#90% Efficeincy"
      ],
      "execution_count":39,
      "outputs":[
        {
          "data":{
            "text\/plain":[
              "0.9063670411985019"
            ]
          },
          "metadata":{
            
          },
          "output_type":"display_data"
        }
      ],
      "metadata":{
        
      }
    }
  ],
  "metadata":{
    
  },
  "nbformat":4,
  "nbformat_minor":0
}